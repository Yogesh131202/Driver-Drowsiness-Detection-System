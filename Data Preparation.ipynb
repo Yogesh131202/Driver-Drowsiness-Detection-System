{
 "cells": [
  {
   "cell_type": "code",
   "execution_count": 1,
   "id": "0a5fb701",
   "metadata": {},
   "outputs": [],
   "source": [
    "import os\n",
    "import shutil\n",
    "import glob\n",
    "from tqdm import tqdm"
   ]
  },
  {
   "cell_type": "markdown",
   "id": "f2a12875",
   "metadata": {},
   "source": [
    "subject ID:\n",
    "xxx\n",
    "\n",
    "image number:\n",
    "xxx\n",
    "\n",
    "gender:\n",
    "0 - male\n",
    "1 - famale\n",
    "\n",
    "glasses:\n",
    "0 - no\n",
    "1 - yes\n",
    "\n",
    "eye state:\n",
    "0 - close\n",
    "1 - open\n",
    "\n",
    "reflections:\n",
    "0 - none\n",
    "1 - low\n",
    "2 - high\n",
    "\n",
    "lighting conditions/image quality:\n",
    "0 - bad\n",
    "1 - good\n",
    "\n",
    "sensor type:\n",
    "01 - RealSense SR300 640x480\n",
    "02 - IDS Imaging, 1280x1024\n",
    "03 - Aptina Imagin 752x480\n",
    "\n",
    "example:\n",
    "s001_00123_0_0_0_0_0_01.png\n"
   ]
  },
  {
   "cell_type": "code",
   "execution_count": 4,
   "id": "6107ae79",
   "metadata": {},
   "outputs": [
    {
     "name": "stderr",
     "output_type": "stream",
     "text": [
      "0it [00:00, ?it/s]\n",
      "100%|██████████| 3242/3242 [00:29<00:00, 111.27it/s]\n",
      "100%|██████████| 1114/1114 [00:09<00:00, 117.93it/s]\n",
      "100%|██████████| 679/679 [00:05<00:00, 123.96it/s]\n",
      "100%|██████████| 1069/1069 [00:10<00:00, 100.12it/s]\n",
      "100%|██████████| 736/736 [00:08<00:00, 90.18it/s]\n",
      "100%|██████████| 1012/1012 [00:12<00:00, 83.85it/s]\n",
      "100%|██████████| 624/624 [00:08<00:00, 75.72it/s]\n",
      "100%|██████████| 832/832 [00:11<00:00, 75.21it/s]\n",
      "100%|██████████| 387/387 [00:05<00:00, 74.88it/s]\n",
      "100%|██████████| 399/399 [00:05<00:00, 78.61it/s]\n",
      "100%|██████████| 1648/1648 [00:18<00:00, 89.54it/s]\n",
      "100%|██████████| 8728/8728 [01:40<00:00, 86.84it/s] \n",
      "100%|██████████| 3605/3605 [00:40<00:00, 88.08it/s] \n",
      "100%|██████████| 8884/8884 [01:44<00:00, 84.93it/s]\n",
      "100%|██████████| 1132/1132 [00:13<00:00, 86.21it/s]\n",
      "100%|██████████| 1889/1889 [00:22<00:00, 83.76it/s]\n",
      "100%|██████████| 1648/1648 [00:18<00:00, 86.94it/s]\n",
      "100%|██████████| 4410/4410 [00:51<00:00, 85.10it/s]\n",
      "100%|██████████| 6175/6175 [01:11<00:00, 86.67it/s]\n",
      "100%|██████████| 704/704 [00:08<00:00, 84.45it/s]\n",
      "100%|██████████| 987/987 [00:11<00:00, 85.74it/s]\n",
      "100%|██████████| 382/382 [00:04<00:00, 87.98it/s]\n",
      "100%|██████████| 522/522 [00:05<00:00, 90.73it/s]\n",
      "100%|██████████| 752/752 [00:08<00:00, 87.01it/s]\n",
      "100%|██████████| 1502/1502 [00:17<00:00, 84.19it/s]\n",
      "100%|██████████| 1246/1246 [00:16<00:00, 77.71it/s]\n",
      "100%|██████████| 665/665 [00:06<00:00, 100.66it/s]\n",
      "100%|██████████| 736/736 [00:07<00:00, 102.18it/s]\n",
      "100%|██████████| 1393/1393 [00:14<00:00, 94.99it/s] \n",
      "100%|██████████| 1384/1384 [00:14<00:00, 93.74it/s] \n",
      "100%|██████████| 1738/1738 [00:15<00:00, 108.77it/s]\n",
      "100%|██████████| 6162/6162 [01:08<00:00, 90.01it/s] \n",
      "100%|██████████| 681/681 [00:06<00:00, 108.22it/s]\n",
      "100%|██████████| 739/739 [00:07<00:00, 99.43it/s] \n",
      "100%|██████████| 642/642 [00:05<00:00, 108.18it/s]\n",
      "100%|██████████| 6193/6193 [01:01<00:00, 100.96it/s]\n",
      "100%|██████████| 10257/10257 [01:45<00:00, 97.16it/s] \n"
     ]
    }
   ],
   "source": [
    "Raw_DIR =r'C:\\Users\\INFINIX\\Driver Drowsiness Detection System\\mrlEyes_2018_01'\n",
    "for dirpath, dirname, filenames in os.walk(Raw_DIR):\n",
    "    for i in tqdm([f for f in filenames if f.endswith('.png')]):\n",
    "        if i.split('_')[4]=='0':\n",
    "            shutil.copy(src=dirpath+'/'+i, dst=r'C:\\Users\\INFINIX\\Driver Drowsiness Detection System\\Prepared_Data\\close eyes')\n",
    "        elif i.split('_')[4]=='1':\n",
    "            shutil.copy(src=dirpath+'/'+i, dst=r'C:\\Users\\INFINIX\\Driver Drowsiness Detection System\\Prepared_Data\\open eyes')"
   ]
  },
  {
   "cell_type": "code",
   "execution_count": null,
   "id": "c7013e68",
   "metadata": {},
   "outputs": [],
   "source": []
  }
 ],
 "metadata": {
  "kernelspec": {
   "display_name": "Python 3 (ipykernel)",
   "language": "python",
   "name": "python3"
  },
  "language_info": {
   "codemirror_mode": {
    "name": "ipython",
    "version": 3
   },
   "file_extension": ".py",
   "mimetype": "text/x-python",
   "name": "python",
   "nbconvert_exporter": "python",
   "pygments_lexer": "ipython3",
   "version": "3.7.12"
  }
 },
 "nbformat": 4,
 "nbformat_minor": 5
}
